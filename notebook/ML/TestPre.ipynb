{
 "cells": [
  {
   "cell_type": "markdown",
   "metadata": {},
   "source": [
    "学习领域\n",
    "\n",
    "> Listを使ったほうがいい場合\n",
    "これまで見てきた特長から、頻繁に要素の入れ替えが起こったり、要素の追加や削除が行われたりする場合には、Listが適していると言えます。また、要素数が特定できないような時にもListを利用すると柔軟に対応できるかもしれません。\n",
    "\n",
    "> 配列を使ったほうがいい場合\n",
    "配列が適しているのは、最初の時点で要素数が確定している場合や、何度もランダムな要素にアクセスするような場合です。要素の入れ替えが多かったり、あとから追加する必要が出てくるような場合には避けたほうがいいでしょう。\n",
    "\n",
    "> http://www.woshipm.com/pmd/448244.html 如何成为一名AI产品经理\n",
    "\n",
    "> 评价指标 https://blog.csdn.net/qq_34374664/article/details/80358916"
   ]
  },
  {
   "cell_type": "markdown",
   "metadata": {},
   "source": [
    "资料库\n",
    "\n",
    "> https://medium.com/@br19920702/%E4%B8%AD%E7%A0%94%E9%99%A2%E9%96%8B%E6%BA%90nlp%E5%A5%97%E4%BB%B6-ckiptagger-%E7%B9%81%E4%B8%AD%E4%B8%8D%E7%B5%90%E5%B7%B4-7822fc4efbf 台语NER"
   ]
  },
  {
   "cell_type": "markdown",
   "metadata": {},
   "source": [
    "https://www.cnblogs.com/wsine/p/5180769.html 视频学习一下K-means算法\n",
    "\n",
    "https://zhuanlan.zhihu.com/p/75477709"
   ]
  },
  {
   "cell_type": "markdown",
   "metadata": {},
   "source": [
    "### k-means 方法1"
   ]
  },
  {
   "cell_type": "code",
   "execution_count": 9,
   "metadata": {},
   "outputs": [],
   "source": [
    "# -*- coding: utf-8 -*-\n",
    "\"\"\"\n",
    "Copyright:NULL\n",
    "Author: Luan Bo\n",
    "Date:2020-12-09\n",
    "Description: \n",
    "\"\"\"\n",
    "from sklearn import datasets\n",
    "import pandas as pd\n",
    "import numpy as np\n",
    "import matplotlib.pyplot as plt\n",
    "from sklearn.model_selection import train_test_split"
   ]
  },
  {
   "cell_type": "code",
   "execution_count": 10,
   "metadata": {},
   "outputs": [],
   "source": [
    "def euclDistance(p1, p2):\n",
    "    \"\"\"\n",
    "    Input argv:--\n",
    "    Output argv:--\n",
    "    Return: Euclidean distance\n",
    "    Function Description: Calculate the Euclidean distance between two vectors.\n",
    "    \"\"\"\n",
    "    return np.sqrt((p1[0]-p2[0])**2+(p1[1]-p2[1])**2)"
   ]
  },
  {
   "cell_type": "code",
   "execution_count": 18,
   "metadata": {},
   "outputs": [],
   "source": [
    "def means(arr):\n",
    "    \"\"\"\n",
    "    Input argv: data set, number of clusters\n",
    "    Output argv: --\n",
    "    Return: mean value\n",
    "    Function Description: Calculate mean\n",
    "    \"\"\"\n",
    "    return np.array([np.mean([p[0] for p in arr]),np.mean([p[1] for p in arr])])"
   ]
  },
  {
   "cell_type": "code",
   "execution_count": 21,
   "metadata": {},
   "outputs": [],
   "source": [
    "def generateData(list1):\n",
    "    \"\"\"\n",
    "    Input argv: list of x,y set\n",
    "    Output argv: list of x,y set\n",
    "    Return: an array of Data Set\n",
    "    Function Description: Generate Data Set from lris_df dataset\n",
    "    \"\"\"\n",
    "    lst = []\n",
    "    lris_df = datasets.load_iris()\n",
    "    x_axis = lris_df.data[:,0]\n",
    "    y_axis = lris_df.data[:,2]\n",
    "    for i in range(len(x_axis)):\n",
    "        lst.append(float(x_axis[i]))\n",
    "        lst.append(float(y_axis[i]))\n",
    "        list1.append(lst)\n",
    "        lst=[]\n",
    "    arr=np.array(list1)\n",
    "    print(arr)\n",
    "    return arr"
   ]
  },
  {
   "cell_type": "code",
   "execution_count": 25,
   "metadata": {},
   "outputs": [
    {
     "name": "stdout",
     "output_type": "stream",
     "text": [
      "[[5.1 1.4]\n",
      " [4.9 1.4]\n",
      " [4.7 1.3]\n",
      " [4.6 1.5]\n",
      " [5.  1.4]\n",
      " [5.4 1.7]\n",
      " [4.6 1.4]\n",
      " [5.  1.5]\n",
      " [4.4 1.4]\n",
      " [4.9 1.5]\n",
      " [5.4 1.5]\n",
      " [4.8 1.6]\n",
      " [4.8 1.4]\n",
      " [4.3 1.1]\n",
      " [5.8 1.2]\n",
      " [5.7 1.5]\n",
      " [5.4 1.3]\n",
      " [5.1 1.4]\n",
      " [5.7 1.7]\n",
      " [5.1 1.5]\n",
      " [5.4 1.7]\n",
      " [5.1 1.5]\n",
      " [4.6 1. ]\n",
      " [5.1 1.7]\n",
      " [4.8 1.9]\n",
      " [5.  1.6]\n",
      " [5.  1.6]\n",
      " [5.2 1.5]\n",
      " [5.2 1.4]\n",
      " [4.7 1.6]\n",
      " [4.8 1.6]\n",
      " [5.4 1.5]\n",
      " [5.2 1.5]\n",
      " [5.5 1.4]\n",
      " [4.9 1.5]\n",
      " [5.  1.2]\n",
      " [5.5 1.3]\n",
      " [4.9 1.4]\n",
      " [4.4 1.3]\n",
      " [5.1 1.5]\n",
      " [5.  1.3]\n",
      " [4.5 1.3]\n",
      " [4.4 1.3]\n",
      " [5.  1.6]\n",
      " [5.1 1.9]\n",
      " [4.8 1.4]\n",
      " [5.1 1.6]\n",
      " [4.6 1.4]\n",
      " [5.3 1.5]\n",
      " [5.  1.4]\n",
      " [7.  4.7]\n",
      " [6.4 4.5]\n",
      " [6.9 4.9]\n",
      " [5.5 4. ]\n",
      " [6.5 4.6]\n",
      " [5.7 4.5]\n",
      " [6.3 4.7]\n",
      " [4.9 3.3]\n",
      " [6.6 4.6]\n",
      " [5.2 3.9]\n",
      " [5.  3.5]\n",
      " [5.9 4.2]\n",
      " [6.  4. ]\n",
      " [6.1 4.7]\n",
      " [5.6 3.6]\n",
      " [6.7 4.4]\n",
      " [5.6 4.5]\n",
      " [5.8 4.1]\n",
      " [6.2 4.5]\n",
      " [5.6 3.9]\n",
      " [5.9 4.8]\n",
      " [6.1 4. ]\n",
      " [6.3 4.9]\n",
      " [6.1 4.7]\n",
      " [6.4 4.3]\n",
      " [6.6 4.4]\n",
      " [6.8 4.8]\n",
      " [6.7 5. ]\n",
      " [6.  4.5]\n",
      " [5.7 3.5]\n",
      " [5.5 3.8]\n",
      " [5.5 3.7]\n",
      " [5.8 3.9]\n",
      " [6.  5.1]\n",
      " [5.4 4.5]\n",
      " [6.  4.5]\n",
      " [6.7 4.7]\n",
      " [6.3 4.4]\n",
      " [5.6 4.1]\n",
      " [5.5 4. ]\n",
      " [5.5 4.4]\n",
      " [6.1 4.6]\n",
      " [5.8 4. ]\n",
      " [5.  3.3]\n",
      " [5.6 4.2]\n",
      " [5.7 4.2]\n",
      " [5.7 4.2]\n",
      " [6.2 4.3]\n",
      " [5.1 3. ]\n",
      " [5.7 4.1]\n",
      " [6.3 6. ]\n",
      " [5.8 5.1]\n",
      " [7.1 5.9]\n",
      " [6.3 5.6]\n",
      " [6.5 5.8]\n",
      " [7.6 6.6]\n",
      " [4.9 4.5]\n",
      " [7.3 6.3]\n",
      " [6.7 5.8]\n",
      " [7.2 6.1]\n",
      " [6.5 5.1]\n",
      " [6.4 5.3]\n",
      " [6.8 5.5]\n",
      " [5.7 5. ]\n",
      " [5.8 5.1]\n",
      " [6.4 5.3]\n",
      " [6.5 5.5]\n",
      " [7.7 6.7]\n",
      " [7.7 6.9]\n",
      " [6.  5. ]\n",
      " [6.9 5.7]\n",
      " [5.6 4.9]\n",
      " [7.7 6.7]\n",
      " [6.3 4.9]\n",
      " [6.7 5.7]\n",
      " [7.2 6. ]\n",
      " [6.2 4.8]\n",
      " [6.1 4.9]\n",
      " [6.4 5.6]\n",
      " [7.2 5.8]\n",
      " [7.4 6.1]\n",
      " [7.9 6.4]\n",
      " [6.4 5.6]\n",
      " [6.3 5.1]\n",
      " [6.1 5.6]\n",
      " [7.7 6.1]\n",
      " [6.3 5.6]\n",
      " [6.4 5.5]\n",
      " [6.  4.8]\n",
      " [6.9 5.4]\n",
      " [6.7 5.6]\n",
      " [6.9 5.1]\n",
      " [5.8 5.1]\n",
      " [6.8 5.9]\n",
      " [6.7 5.7]\n",
      " [6.7 5.2]\n",
      " [6.3 5. ]\n",
      " [6.5 5.2]\n",
      " [6.2 5.4]\n",
      " [5.9 5.1]]\n"
     ]
    },
    {
     "data": {
      "image/png": "[encoded data removed]",
      "text/plain": [
       "<Figure size 432x288 with 1 Axes>"
      ]
     },
     "metadata": {
      "needs_background": "light"
     },
     "output_type": "display_data"
    },
    {
     "data": {
      "image/png": "[encoded data removed]",
      "text/plain": [
       "<Figure size 432x288 with 1 Axes>"
      ]
     },
     "metadata": {
      "needs_background": "light"
     },
     "output_type": "display_data"
    },
    {
     "data": {
      "image/png": "[encoded data removed]",
      "text/plain": [
       "<Figure size 432x288 with 1 Axes>"
      ]
     },
     "metadata": {
      "needs_background": "light"
     },
     "output_type": "display_data"
    },
    {
     "data": {
      "image/png": "[encoded data removed]",
      "text/plain": [
       "<Figure size 432x288 with 1 Axes>"
      ]
     },
     "metadata": {
      "needs_background": "light"
     },
     "output_type": "display_data"
    },
    {
     "data": {
      "image/png": "[encoded data removed]",
      "text/plain": [
       "<Figure size 432x288 with 1 Axes>"
      ]
     },
     "metadata": {
      "needs_background": "light"
     },
     "output_type": "display_data"
    },
    {
     "data": {
      "image/png": "[encoded data removed]",
      "text/plain": [
       "<Figure size 432x288 with 1 Axes>"
      ]
     },
     "metadata": {
      "needs_background": "light"
     },
     "output_type": "display_data"
    },
    {
     "data": {
      "image/png": "[encoded data removed]",
      "text/plain": [
       "<Figure size 432x288 with 1 Axes>"
      ]
     },
     "metadata": {
      "needs_background": "light"
     },
     "output_type": "display_data"
    },
    {
     "data": {
      "image/png": "[encoded data removed]",
      "text/plain": [
       "<Figure size 432x288 with 1 Axes>"
      ]
     },
     "metadata": {
      "needs_background": "light"
     },
     "output_type": "display_data"
    },
    {
     "data": {
      "image/png": "[encoded data removed]",
      "text/plain": [
       "<Figure size 432x288 with 1 Axes>"
      ]
     },
     "metadata": {
      "needs_background": "light"
     },
     "output_type": "display_data"
    }
   ],
   "source": [
    "list1 = []\n",
    "arr = generateData(list1)\n",
    "\n",
    "# Divides train set and test set by 8:2\n",
    "X_train, X_test = train_test_split(arr,test_size=0.2,random_state=1)\n",
    "\n",
    "count=10  # Number of k\n",
    "SSE_train=[]  # Train SSE\n",
    "SSE_test=[]    # Test SSE\n",
    "n=20      # Maximum number of iterations\n",
    "\n",
    "for k in range(1,count):\n",
    "    cla_arr=[]    # Clustering\n",
    "    centroid=[]   # Centroids\n",
    "    for i in range(k):\n",
    "        j=np.random.randint(0,len(X_train))\n",
    "        centroid.append(list1[j])\n",
    "        cla_arr.append([])\n",
    "    centroids=np.array(centroid)    \n",
    "    cla_tmp=cla_arr\n",
    "    cla_tmp1=cla_arr\n",
    "    \n",
    "    # iteration\n",
    "    for i in range(n):\n",
    "        # Cluster analysis of the points in the train set\n",
    "        for e in X_train:\n",
    "            pi=0\n",
    "            min_d=euclDistance(e,centroids[pi])   \n",
    "            for j in range(k):\n",
    "                if(euclDistance(e,centroids[j])<min_d):  \n",
    "                    min_d=euclDistance(e,centroids[j])\n",
    "                    pi=j\n",
    "            cla_tmp[pi].append(e)\n",
    "        \n",
    "        for m in range(k):\n",
    "            if(n-1==i):\n",
    "                break\n",
    "            centroids[m]=means(cla_tmp[m])  # Iterative Updating of Centroids\n",
    "            cla_tmp[m]=[]\n",
    "\n",
    "    # Calculating SSE for train set\n",
    "    dis=0\n",
    "    for i in range(k):\n",
    "        for j in range(len(cla_tmp[i])):\n",
    "            dis+=euclDistance(centroids[i],cla_tmp[i][j])\n",
    "    SSE_train.append(dis)\n",
    "    \n",
    "    # Process Validation\n",
    "    col = ['red','blue','green','yellow','orange','Aqua','Chartreuse','grey','HotPink']\n",
    "    for i in range(k):\n",
    "        plt.scatter([e[0] for e in cla_tmp[i]],[e[1] for e in cla_tmp[i]],color=col[i])\n",
    "        plt.scatter(centroids[i][0],centroids[i][1],linewidth=3,s=300,marker='+',color='black')\n",
    "    plt.show()\n",
    "    \n",
    "    \n",
    "    # Cluster analysis of the test set with the centroids of the train set.\n",
    "    for e in X_test:\n",
    "        ki=0\n",
    "        min_d=euclDistance(e,centroids[ki])\n",
    "        for j in range(k):\n",
    "            if(euclDistance(e,centroids[j])<min_d):\n",
    "                min_d=euclDistance(e,centroids[j])\n",
    "                ki=j\n",
    "        cla_tmp1[ki].append(e)\n",
    "    \n",
    "    # Calculating SSE for test set\n",
    "    dis=0\n",
    "    for i in range(k):\n",
    "        for j in range(len(cla_tmp1[i])):\n",
    "            dis+=euclDistance(centroids[i],cla_tmp1[i][j])\n",
    "    SSE_test.append(dis)\n",
    "    \n",
    "    \n",
    "    "
   ]
  },
  {
   "cell_type": "code",
   "execution_count": 26,
   "metadata": {},
   "outputs": [
    {
     "data": {
      "image/png": "[encoded data removed]",
      "text/plain": [
       "<Figure size 432x288 with 1 Axes>"
      ]
     },
     "metadata": {
      "needs_background": "light"
     },
     "output_type": "display_data"
    },
    {
     "data": {
      "image/png": "[encoded data removed]",
      "text/plain": [
       "<Figure size 432x288 with 1 Axes>"
      ]
     },
     "metadata": {
      "needs_background": "light"
     },
     "output_type": "display_data"
    },
    {
     "data": {
      "image/png": "[encoded data removed]",
      "text/plain": [
       "<Figure size 432x288 with 1 Axes>"
      ]
     },
     "metadata": {
      "needs_background": "light"
     },
     "output_type": "display_data"
    }
   ],
   "source": [
    "# Calculate the difference between the test set and the train set SSE.\n",
    "SSE=[]\n",
    "for i in range(len(SSE_test)):\n",
    "    SSE.append(SSE_test[i]-SSE_train[i])\n",
    "\n",
    "# train (SSE)\n",
    "x=range(1,count)\n",
    "plt.figure()\n",
    "plt.plot(x,SSE_train,marker='*')\n",
    "plt.ylabel(\"train(SSE)\")\n",
    "plt.xlabel(\"k\")\n",
    "plt.show()\n",
    "\n",
    "# test (SSE)\n",
    "plt.figure()\n",
    "plt.plot(x,SSE_test,marker='*')\n",
    "plt.ylabel(\"test(SSE)\")\n",
    "plt.xlabel(\"k\")\n",
    "plt.show()\n",
    "\n",
    "# test-train(SSE)\n",
    "plt.figure()\n",
    "plt.plot(x,SSE,marker='+')\n",
    "plt.ylabel(\"test-train(SSE)\")\n",
    "plt.xlabel(\"k\")\n",
    "plt.show()"
   ]
  },
  {
   "cell_type": "markdown",
   "metadata": {},
   "source": [
    "### k-means 方法2"
   ]
  },
  {
   "cell_type": "markdown",
   "metadata": {},
   "source": [
    "https://blog.csdn.net/u010916338/article/details/86487890"
   ]
  },
  {
   "cell_type": "code",
   "execution_count": 2,
   "metadata": {},
   "outputs": [
    {
     "data": {
      "image/png": "[encoded data removed]",
      "text/plain": [
       "<Figure size 432x288 with 1 Axes>"
      ]
     },
     "metadata": {
      "needs_background": "light"
     },
     "output_type": "display_data"
    }
   ],
   "source": [
    "from sklearn import datasets\n",
    "import matplotlib.pyplot as plt\n",
    " \n",
    "# Load DataSet (Dict type)\n",
    "lris_df = datasets.load_iris()\n",
    "\n",
    "# Pick the first two dimensions as the x- and y-axes.\n",
    "x_axis = lris_df.data[:,0]\n",
    "y_axis = lris_df.data[:,2]\n",
    "\n",
    "plt.scatter(x_axis, y_axis, c=lris_df.target)\n",
    "plt.show()"
   ]
  },
  {
   "cell_type": "code",
   "execution_count": null,
   "metadata": {},
   "outputs": [],
   "source": []
  },
  {
   "cell_type": "markdown",
   "metadata": {},
   "source": [
    "### 英文分词"
   ]
  },
  {
   "cell_type": "markdown",
   "metadata": {},
   "source": [
    "https://blog.csdn.net/aieraisiji/article/details/88397865"
   ]
  },
  {
   "cell_type": "code",
   "execution_count": null,
   "metadata": {},
   "outputs": [],
   "source": [
    "# -*- coding: utf-8 -*-\n",
    "\"\"\"\n",
    "Copyright:NULL\n",
    "Author: Luan Bo\n",
    "Date:2020-12-09\n",
    "Description: Frequency statistics for English words\n",
    "\"\"\"\n",
    "\n",
    "\n",
    "def iptext():\n",
    "    \"\"\"\n",
    "    Input argv:--\n",
    "    Output argv:--\n",
    "    Return:the text column with all information\n",
    "    Function Description: Provide functions Read the input file, use lower() and replace() functions \n",
    "                to unify all words to lowercase, and replace special characters with spaces.\n",
    "    \"\"\"\n",
    "    \n",
    "    text = open('eng_sample.txt', 'r', encoding='utf8').read()\n",
    "    with open('eng_sample.txt', 'r', encoding='utf8') as f:\n",
    "        text = f.read()\n",
    "    text = text.lower()\n",
    "    for rr in '!\"#$&()*+,-./:;<=>?@[\\\\]^_{|}·~‘’':\n",
    "        text = text.replace(rr,\"\")\n",
    "    return text"
   ]
  },
  {
   "cell_type": "code",
   "execution_count": null,
   "metadata": {},
   "outputs": [],
   "source": [
    "# Store the processed text in dictionary with word frequency statistics.\n",
    "text = iptext()\n",
    "words = text.split()\n",
    "cnt = {}\n",
    "for word in words:\n",
    "    cnt[word] = cnt.get(word,0) + 1\n",
    "\n",
    "# The statistical results are saved as a list, sorted by word frequency, and the top thirty are output.\n",
    "op_num = 30\n",
    "itemlst = list(cnt.items())\n",
    "itemlst.sort(key=lambda x:x[1],reverse=True)\n",
    "for i in range(op_num):\n",
    "    word,cnt = itemlst[i]\n",
    "    print(word,cnt)"
   ]
  },
  {
   "cell_type": "markdown",
   "metadata": {},
   "source": [
    "https://blog.csdn.net/Thanksbao/article/details/80083170"
   ]
  },
  {
   "cell_type": "code",
   "execution_count": null,
   "metadata": {},
   "outputs": [],
   "source": [
    "import re\n",
    "\n",
    "text = '我的生日是2000-1-12 14:34，他的生日是1999-12-1，你的生日是2010-12-25。'\n",
    "res = re.findall(r\"(\\d{4}-\\d{1,2}-\\d{1,2})\",text)\n",
    "for item in res:\n",
    "    print(item)"
   ]
  },
  {
   "cell_type": "markdown",
   "metadata": {},
   "source": [
    "https://www.runoob.com/mongodb/nosql.html \n",
    "\n",
    "https://host.zzidc.com/shujuku/423.html"
   ]
  },
  {
   "cell_type": "markdown",
   "metadata": {},
   "source": [
    "No-SQL:\n",
    "> NoSQL, which refers to a non-relational database, is sometimes referred to as an acronym for Not Only SQL, a general term for a database management system that differs from a traditional relational database.\n",
    "NoSQL is used for storing very large amounts of data. (For example, Google or Facebook). These types of data stores do not require a fixed schema and can be scaled horizontally without redundant operations.\n",
    "> \n",
    "> Atomicity, Consistency, Isolation, Durability.\n",
    "\n",
    "Database Management System\n",
    "> SQL: MySQL, Oracle Database, Microsoft SQL Server\n",
    "> \n",
    "> NoSQL: MongoDB, Redis"
   ]
  },
  {
   "cell_type": "code",
   "execution_count": null,
   "metadata": {},
   "outputs": [],
   "source": [
    "! pip install MySQL-python\n",
    "! pip install redis # ~Python 3.5.x\n",
    "! pip install pymongo"
   ]
  },
  {
   "cell_type": "code",
   "execution_count": null,
   "metadata": {},
   "outputs": [],
   "source": [
    "# MySQL Connector\n",
    "import mysql.connector\n",
    "con = mysql.connector.connect(host='localhost', port='xxxx', user='root', password='xxxxxxx', database =\"demo_xxx\")\n",
    "\n",
    "# Redis\n",
    "import redis\n",
    "r = redis.Redis(host='localhost', port='xxxx', password='xxxxxxx', db=0)\n",
    "\n",
    "# MongoDB\n",
    "from pymongo import MongoClient\n",
    "client = MongoClient(host='localhost', port='xxxx')\n",
    "client.admin.autthenticate('admin', 'xxxxxxx')"
   ]
  },
  {
   "cell_type": "markdown",
   "metadata": {},
   "source": [
    "https://blog.csdn.net/zhp_chen/article/details/78841031\n",
    "学一下中位数的计算"
   ]
  },
  {
   "cell_type": "markdown",
   "metadata": {},
   "source": [
    "The central location of the data is the easiest feature of the data. By virtue of centrality, we can know an average of the data, and if we want to make predictions about new data, then the average is a very intuitive choice. The central position of the data can be classified as `Mean`, `Median`, or `Mode`. The `Mean` and `Median` are used for quantitative data, while the `Mode` is used for qualitative data.\n",
    "\n",
    "　　For quantitative Data, the `Mean` is the sum divided by the total (N), and the `Median` is the value in the middle of the numerical range (parity totals are treated differently)."
   ]
  },
  {
   "cell_type": "markdown",
   "metadata": {},
   "source": [
    "<img src=\"a.png\" width=\"20%\">"
   ]
  },
  {
   "cell_type": "markdown",
   "metadata": {},
   "source": [
    "<img src=\"b1.png\" width=\"40%\">"
   ]
  },
  {
   "cell_type": "markdown",
   "metadata": {},
   "source": [
    "<img src=\"b2.png\" width=\"60%\">"
   ]
  },
  {
   "cell_type": "code",
   "execution_count": null,
   "metadata": {},
   "outputs": [],
   "source": [
    "from numpy import mean, median\n",
    "from numpy.random import normal\n",
    "\n",
    "# Generate a dataset\n",
    "data = normal(0, 10, size=10)\n",
    "print(data)\n",
    "\n",
    "# Mean\n",
    "print('mean: ', mean(data))\n",
    "\n",
    "# Median\n",
    "print('median: ', median(data))"
   ]
  },
  {
   "cell_type": "markdown",
   "metadata": {},
   "source": [
    "For qualitative data, the `Mod` is the most frequently occurring value. Using `Scipy`."
   ]
  },
  {
   "cell_type": "code",
   "execution_count": null,
   "metadata": {},
   "outputs": [],
   "source": [
    "from scipy.stats import mode\n",
    "\n",
    "data = [1, 2, 3, 2, 2, 2, 6]\n",
    "print(data)\n",
    "\n",
    "# Mod\n",
    "print(mode(data))\n",
    "print('mod: ', mode(data).mode[0])"
   ]
  },
  {
   "cell_type": "markdown",
   "metadata": {},
   "source": [
    "Variance\n",
    "> Variance is the mean of the square of the difference between the individual data and the mean. In probability theory and mathematical statistics, variance is a measure of the degree of deviation between a random variable and its mathematical expectation. In many problems, it is important to study the degree of deviation between a random variable and its mean.\n",
    "\n",
    "Standard Deviation\n",
    "> The root sign of the variance."
   ]
  },
  {
   "cell_type": "markdown",
   "metadata": {},
   "source": [
    "<img src=\"c.png\" width=\"60%\">"
   ]
  },
  {
   "cell_type": "code",
   "execution_count": null,
   "metadata": {},
   "outputs": [],
   "source": [
    "num_lst=[111,125,318,29,208,171]\n",
    "b=0\n",
    "sum_a=0\n",
    "pj=sum(num_lst)/len(num_lst);\n",
    "\n",
    "for a in range(len(num_lst)):\n",
    "   b=(num_lst[a]-pj)**2\n",
    "   sum_a = b+sum_a\n",
    "print(\"Standard Deviation：\",(sum_a/len(num_lst))**0.5)"
   ]
  },
  {
   "cell_type": "markdown",
   "metadata": {},
   "source": [
    "https://blog.csdn.net/ztf312/article/details/100559299"
   ]
  },
  {
   "cell_type": "code",
   "execution_count": 27,
   "metadata": {},
   "outputs": [
    {
     "name": "stdout",
     "output_type": "stream",
     "text": [
      "array('i', [0, 1, 2, 3, 4, 5, 6, 7, 8, 9])\n",
      "2.8722813232690143\n"
     ]
    }
   ],
   "source": [
    "import numpy as np\n",
    "import array\n",
    "\n",
    "totl = True\n",
    "arr = array.array('i', [0, 1, 2, 3, 4, 5, 6, 7, 8, 9])\n",
    "print(arr)\n",
    "if totl == True:\n",
    "    print(np.std(arr, ddof = 0))\n",
    "else:\n",
    "    print(np.std(arr, ddof = 1))"
   ]
  },
  {
   "cell_type": "code",
   "execution_count": null,
   "metadata": {},
   "outputs": [],
   "source": []
  },
  {
   "cell_type": "markdown",
   "metadata": {},
   "source": []
  },
  {
   "cell_type": "code",
   "execution_count": 30,
   "metadata": {
    "scrolled": true
   },
   "outputs": [
    {
     "name": "stdout",
     "output_type": "stream",
     "text": [
      "Requirement already satisfied: nltk in c:\\users\\b-luan\\appdata\\local\\continuum\\anaconda3\\lib\\site-packages (3.5)\n",
      "Requirement already satisfied: regex in c:\\users\\b-luan\\appdata\\local\\continuum\\anaconda3\\lib\\site-packages (from nltk) (2020.11.13)\n",
      "Requirement already satisfied: tqdm in c:\\users\\b-luan\\appdata\\local\\continuum\\anaconda3\\lib\\site-packages (from nltk) (4.40.0)\n",
      "Requirement already satisfied: click in c:\\users\\b-luan\\appdata\\local\\continuum\\anaconda3\\lib\\site-packages (from nltk) (7.0)\n",
      "Requirement already satisfied: joblib in c:\\users\\b-luan\\appdata\\local\\continuum\\anaconda3\\lib\\site-packages (from nltk) (0.13.2)\n"
     ]
    }
   ],
   "source": [
    "! pip install nltk"
   ]
  },
  {
   "cell_type": "code",
   "execution_count": 46,
   "metadata": {},
   "outputs": [
    {
     "name": "stderr",
     "output_type": "stream",
     "text": [
      "[nltk_data] Downloading package punkt to\n",
      "[nltk_data]     C:\\Users\\b-luan\\AppData\\Roaming\\nltk_data...\n",
      "[nltk_data]   Package punkt is already up-to-date!\n",
      "[nltk_data] Downloading package wordnet to\n",
      "[nltk_data]     C:\\Users\\b-luan\\AppData\\Roaming\\nltk_data...\n",
      "[nltk_data]   Package wordnet is already up-to-date!\n",
      "[nltk_data] Downloading package stopwords to\n",
      "[nltk_data]     C:\\Users\\b-luan\\AppData\\Roaming\\nltk_data...\n",
      "[nltk_data]   Package stopwords is already up-to-date!\n"
     ]
    }
   ],
   "source": [
    "# -*- coding: utf-8 -*-\n",
    "\"\"\"\n",
    "Copyright:NULL\n",
    "Author: Luan Bo\n",
    "Date:2020-12-10\n",
    "Description: \n",
    "\"\"\"\n",
    "\n",
    "\n",
    "from sklearn.model_selection import train_test_split\n",
    "import nltk\n",
    "nltk.download('punkt')\n",
    "nltk.download('wordnet')\n",
    "nltk.download('stopwords')\n",
    "from nltk.stem import WordNetLemmatizer\n",
    "from nltk.corpus import stopwords\n",
    "from nltk.classify import NaiveBayesClassifier\n",
    "\n",
    "\n",
    "def pret_text(text):\n",
    "    # word token\n",
    "    words = nltk.word_tokenize(text)\n",
    "    # Lemmatization\n",
    "    # wordnet_lematizer = WordNetLemmatizer()  \n",
    "    # words = [wordnet_lematizer.lemmatize(word) for word in words]\n",
    "    # Del stopword\n",
    "    # remain_words = [word for word in words if word not \n",
    "    #                in stopwords.words('english')]\n",
    "    remain_words = [word for word in words]\n",
    "    \n",
    "    # True 表示该词在文本中\n",
    "    return {word: True for word in remain_words}"
   ]
  },
  {
   "cell_type": "code",
   "execution_count": 47,
   "metadata": {},
   "outputs": [
    {
     "name": "stdout",
     "output_type": "stream",
     "text": [
      "['one of the responses those that enjoy \" detroit rock city \" ( probably kiss fans , mostly ) might have upon first glance at the rating i\\'ve given the film might be something like : \" oh , that casey\\'s gone and become a jaded critic on us . ', 'just what did he expect out of a dumb teenage rock n\\' roll movie like this ? \" ', \"i'm wondering the same thing . \", 'i feel like i should have had a grand time with \" detroit rock city . \" ', \"it's the sort of movie i wish i could've had a lot of fun with , but i didn't . \", \"i just didn't . \", \"surely this film isn't trying to win any major awards , so should i have expected an oscar-caliber film ? \", 'no , but i expected something . ', 'a funny joke . ', 'a clever prank . ']\n",
      "[0, 0, 0, 0, 0, 0, 0, 0, 0, 0]\n"
     ]
    }
   ],
   "source": [
    "# Setp 1: \n",
    "lst_T = []\n",
    "lst_L = []\n",
    "with open('data.txt', 'r', encoding='utf8') as f:\n",
    "    store = f.readlines()\n",
    "\n",
    "for line in store:\n",
    "    # lst_T.append(pret_text(str(line.split('\\t')[0])))\n",
    "    lst_T.append(str(line.split('\\t')[0]))\n",
    "    lst_L.append(int(line.split('\\t')[1].split('\\n')[0]))\n",
    "print(lst_T[:10])\n",
    "print(lst_L[:10])\n"
   ]
  },
  {
   "cell_type": "code",
   "execution_count": 48,
   "metadata": {},
   "outputs": [
    {
     "name": "stdout",
     "output_type": "stream",
     "text": [
      "[' \" fail-safe \" clearly sees it as one of the central issues of the cold war , and , likewise , it becomes a central theme in the film . ', 'i would never call myself a \" star wars \" fan - especially not considering what it means to be a fanatic these days - but i\\'ve always enjoyed the films along with everyone else in america . ', ' ( frankly i have no idea on these points . ) ', 'among these are leo biederman ( elijah wood ) and sarah hotchner ( leelee sobieski ) . ', \"of course , the general reaction of the audience was oppposed to mine , and so i am in the minority , as i was when i stood on the side of dante's peak . \", \"well , it's not . \", 'but the comet is a huge mistake , making it more laughable than frightening . ', 'he races off to mail the information , but is killed in a reckless car accident . ', 'deep impact is rated pg-13 for disaster related elements and brief language . ', 'hart bochner ( die hard ) is particularly fun as kara\\'s love interest , a lovesick landscaper who is under a spell cast by selena ( although he is unfortunately part of one of the film\\'s more ridiculous moments , when he has to be rescued from being tapped by some \" menacing \" bumper cars ) . ']\n"
     ]
    }
   ],
   "source": [
    "text_test, text_rest, label_test, label_rest = train_test_split(lst_T, lst_L, test_size=0.8, random_state=1)\n",
    "text_train, text_dev, label_train, label_dev = train_test_split(text_rest, label_rest, test_size=0.125, random_state=1)\n",
    "print(text_train[:10])\n",
    "# print(text_dev[:10])\n",
    "# print(label_dev[:10])\n",
    "\n",
    "with open('test_data.txt', 'w+', encoding='utf8') as f:\n",
    "    for i in range(len(text_test)):\n",
    "        op = ''.join([str(text_test[i]), '\\t', str(label_test[i]), '\\n'])\n",
    "        f.write(op)\n",
    "\n"
   ]
  },
  {
   "cell_type": "code",
   "execution_count": 49,
   "metadata": {},
   "outputs": [
    {
     "name": "stdout",
     "output_type": "stream",
     "text": [
      "[[{'``': True, 'fail-safe': True, 'clearly': True, 'sees': True, 'it': True, 'as': True, 'one': True, 'of': True, 'the': True, 'central': True, 'issues': True, 'cold': True, 'war': True, ',': True, 'and': True, 'likewise': True, 'becomes': True, 'a': True, 'theme': True, 'in': True, 'film': True, '.': True}, 1], [{'i': True, 'would': True, 'never': True, 'call': True, 'myself': True, 'a': True, '``': True, 'star': True, 'wars': True, 'fan': True, '-': True, 'especially': True, 'not': True, 'considering': True, 'what': True, 'it': True, 'means': True, 'to': True, 'be': True, 'fanatic': True, 'these': True, 'days': True, 'but': True, \"'ve\": True, 'always': True, 'enjoyed': True, 'the': True, 'films': True, 'along': True, 'with': True, 'everyone': True, 'else': True, 'in': True, 'america': True, '.': True}, 1], [{'(': True, 'frankly': True, 'i': True, 'have': True, 'no': True, 'idea': True, 'on': True, 'these': True, 'points': True, '.': True, ')': True}, 1], [{'among': True, 'these': True, 'are': True, 'leo': True, 'biederman': True, '(': True, 'elijah': True, 'wood': True, ')': True, 'and': True, 'sarah': True, 'hotchner': True, 'leelee': True, 'sobieski': True, '.': True}, 0], [{'of': True, 'course': True, ',': True, 'the': True, 'general': True, 'reaction': True, 'audience': True, 'was': True, 'oppposed': True, 'to': True, 'mine': True, 'and': True, 'so': True, 'i': True, 'am': True, 'in': True, 'minority': True, 'as': True, 'when': True, 'stood': True, 'on': True, 'side': True, 'dante': True, \"'s\": True, 'peak': True, '.': True}, 0], [{'well': True, ',': True, 'it': True, \"'s\": True, 'not': True, '.': True}, 0], [{'but': True, 'the': True, 'comet': True, 'is': True, 'a': True, 'huge': True, 'mistake': True, ',': True, 'making': True, 'it': True, 'more': True, 'laughable': True, 'than': True, 'frightening': True, '.': True}, 0], [{'he': True, 'races': True, 'off': True, 'to': True, 'mail': True, 'the': True, 'information': True, ',': True, 'but': True, 'is': True, 'killed': True, 'in': True, 'a': True, 'reckless': True, 'car': True, 'accident': True, '.': True}, 0], [{'deep': True, 'impact': True, 'is': True, 'rated': True, 'pg-13': True, 'for': True, 'disaster': True, 'related': True, 'elements': True, 'and': True, 'brief': True, 'language': True, '.': True}, 0], [{'hart': True, 'bochner': True, '(': True, 'die': True, 'hard': True, ')': True, 'is': True, 'particularly': True, 'fun': True, 'as': True, 'kara': True, \"'s\": True, 'love': True, 'interest': True, ',': True, 'a': True, 'lovesick': True, 'landscaper': True, 'who': True, 'under': True, 'spell': True, 'cast': True, 'by': True, 'selena': True, 'although': True, 'he': True, 'unfortunately': True, 'part': True, 'of': True, 'one': True, 'the': True, 'film': True, 'more': True, 'ridiculous': True, 'moments': True, 'when': True, 'has': True, 'to': True, 'be': True, 'rescued': True, 'from': True, 'being': True, 'tapped': True, 'some': True, '``': True, 'menacing': True, 'bumper': True, 'cars': True, '.': True}, 0]]\n",
      "[[{'``': True, 'fail-safe': True, 'clearly': True, 'sees': True, 'it': True, 'as': True, 'one': True, 'of': True, 'the': True, 'central': True, 'issues': True, 'cold': True, 'war': True, ',': True, 'and': True, 'likewise': True, 'becomes': True, 'a': True, 'theme': True, 'in': True, 'film': True, '.': True}, 1], [{'i': True, 'would': True, 'never': True, 'call': True, 'myself': True, 'a': True, '``': True, 'star': True, 'wars': True, 'fan': True, '-': True, 'especially': True, 'not': True, 'considering': True, 'what': True, 'it': True, 'means': True, 'to': True, 'be': True, 'fanatic': True, 'these': True, 'days': True, 'but': True, \"'ve\": True, 'always': True, 'enjoyed': True, 'the': True, 'films': True, 'along': True, 'with': True, 'everyone': True, 'else': True, 'in': True, 'america': True, '.': True}, 1], [{'(': True, 'frankly': True, 'i': True, 'have': True, 'no': True, 'idea': True, 'on': True, 'these': True, 'points': True, '.': True, ')': True}, 1], [{'among': True, 'these': True, 'are': True, 'leo': True, 'biederman': True, '(': True, 'elijah': True, 'wood': True, ')': True, 'and': True, 'sarah': True, 'hotchner': True, 'leelee': True, 'sobieski': True, '.': True}, 0], [{'of': True, 'course': True, ',': True, 'the': True, 'general': True, 'reaction': True, 'audience': True, 'was': True, 'oppposed': True, 'to': True, 'mine': True, 'and': True, 'so': True, 'i': True, 'am': True, 'in': True, 'minority': True, 'as': True, 'when': True, 'stood': True, 'on': True, 'side': True, 'dante': True, \"'s\": True, 'peak': True, '.': True}, 0]]\n",
      "[[{'chief': True, 'among': True, 'them': True, 'is': True, 'jodi': True, 'benson': True, ',': True, 'a': True, '1992': True, 'tony': True, 'nominee': True, 'for': True, 'her': True, 'stage': True, 'work': True, 'in': True, 'crazy': True, 'you': True, 'who': True, 'voices': True, 'the': True, 'film': True, \"'s\": True, 'heroine': True, 'ariel': True, 'to': True, 'perfection': True, ';': True, 'with': True, 'wonderfully': True, 'expressive': True, 'speaking': True, 'voice': True, 'full': True, 'of': True, 'youthful': True, 'vigor': True, 'and': True, 'gorgeous': True, 'singing': True, 'ms': True, '.': True, 'provides': True, 'most': True, 'engaging': True, 'anchor': True}, 1], [{'a': True, 'computer': True, 'will': True, 'select': True, '800': True, ',': True, '000': True, 'people': True, 'at': True, 'random': True, '.': True}, 0], [{'the': True, 'irony': True, 'here': True, 'is': True, 'groeteschele': True, \"'s\": True, 'own': True, 'mechanical': True, 'theorizing': True, '.': True}, 1], [{'quint': True, 'is': True, 'drawn': True, 'into': True, 'telling': True, 'the': True, 'story': True, 'of': True, 'his': True, 'experiences': True, 'aboard': True, 'u': True, '.': True, 's': True}, 1], [{'the': True, 'context': True, 'film': True, 'uses': True, 'suggests': True, 'that': True, 'this': True, 'hatred': True, 'was': True, 'often': True, 'glib': True, '.': True}, 1]]\n"
     ]
    }
   ],
   "source": [
    "train_data_m = []\n",
    "for i in range(len(text_train)):\n",
    "    train_data_m.append([pret_text(text_train[i]),label_train[i]])\n",
    "print(train_data_m[:10])\n",
    "\n",
    "dev_data_m = []\n",
    "for i in range(len(text_dev)):\n",
    "    dev_data_m.append([pret_text(text_dev[i]),label_dev[i]])\n",
    "# print(dev_data_m[:10])\n",
    "\n",
    "train_data_f = train_data_m + dev_data_m\n",
    "print(train_data_f[:5])\n",
    "print(train_data_f[-5:])"
   ]
  },
  {
   "cell_type": "code",
   "execution_count": 50,
   "metadata": {},
   "outputs": [],
   "source": [
    "demo_model = NaiveBayesClassifier.train(train_data_f)"
   ]
  },
  {
   "cell_type": "code",
   "execution_count": 51,
   "metadata": {
    "scrolled": true
   },
   "outputs": [
    {
     "name": "stdout",
     "output_type": "stream",
     "text": [
      "[0, 0, 0, 1, 0, 0, 1, 0, 1, 1, 1, 1, 1, 0, 1, 1, 1, 1, 1, 1, 1, 0, 1, 1, 0, 0, 0, 1, 1, 1, 1, 0, 0, 0, 1, 1, 0, 0, 0, 1, 1, 0, 0, 0, 0, 0, 0, 1, 1, 0, 1, 1, 1, 0, 0, 1, 1, 1, 0, 1, 1, 1, 0, 0, 1, 0, 1, 0, 1, 0, 1, 1, 1, 0, 0, 1, 0, 1, 1, 0, 0, 1, 1, 1, 1, 0, 1, 0, 0, 1, 1, 0, 1, 1, 1, 0, 1, 1, 0, 1, 0, 1, 1, 1, 0, 0, 0, 0]\n"
     ]
    }
   ],
   "source": [
    "# test_text1 = 'I like this movie very much'\n",
    "# test_text2 = 'we have the story of a dying man earl partridge ( jason robards ) wanting to get in touch with his son and make amends .'\n",
    "\n",
    "hy_label = []\n",
    "for item in text_test:\n",
    "    hy_label.append(int(demo_model.classify(pret_text(item))))\n",
    "print(hy_label)"
   ]
  },
  {
   "cell_type": "code",
   "execution_count": 52,
   "metadata": {
    "scrolled": true
   },
   "outputs": [
    {
     "name": "stdout",
     "output_type": "stream",
     "text": [
      "Accuracy : 0.8055555555555556\n",
      "Precision: 0.75\n",
      "F1       : 0.8108108108108107\n"
     ]
    }
   ],
   "source": [
    "from sklearn.metrics import accuracy_score   #正确率\n",
    "from sklearn.metrics import precision_score    #精准率\n",
    "from sklearn.metrics import f1_score         #调和平均值F1\n",
    "\n",
    "\n",
    "print('Accuracy :',accuracy_score(label_test, hy_label))\n",
    "print('Precision:',precision_score(label_test,hy_label))\n",
    "print('F1       :',f1_score(label_test,hy_label))"
   ]
  },
  {
   "cell_type": "markdown",
   "metadata": {},
   "source": [
    "\n",
    "|   | Lemmatization ON & Stopword Del ON | Lemmatization OFF & Stopword Del ON | Lemmatization ON & Stopword Del OFF | Lemmatization OFF & Stopword Del OFF |\n",
    "| :--- | :----: | ----: | ----: | ----: |\n",
    "| Accuracy | 0.7870370370370371 | 0.7870370370370371 | 0.7777777777777778 | 0.8055555555555556 |\n",
    "| Precision| 0.71875      | 0.7258064516129032     | 0.7142857142857143 | 0.75 |\n",
    "| F1 | 0.8     | 0.7964601769911503    | 0.7894736842105262 | 0.8108108108108107 |"
   ]
  },
  {
   "cell_type": "code",
   "execution_count": 12,
   "metadata": {},
   "outputs": [
    {
     "name": "stdout",
     "output_type": "stream",
     "text": [
      "Comments('qqq' to exit):I like this movie\n",
      "Postive\n",
      "Comments('qqq' to exit):I love this gay\n",
      "Postive\n",
      "Comments('qqq' to exit):qqq\n",
      "Goodbye!\n"
     ]
    }
   ],
   "source": [
    "while True:\n",
    "    ip_text = input(\"Comments('qqq' to exit):\")\n",
    "    if ip_text == 'qqq':\n",
    "        break\n",
    "    else:\n",
    "        if 'like' in ip_text or 'love' in ip_text:\n",
    "            print(\"Postive\")\n",
    "        else:\n",
    "            hy_res = demo_model.classify(pret_text(ip_text))\n",
    "            if hy_res == 1:\n",
    "                print(\"Postive\")\n",
    "            elif hy_res == 0:\n",
    "                print(\"Negative\")\n",
    "            else:\n",
    "                print(\"Error: Please enter a sentence in English...\")\n",
    "                continue\n",
    "print(\"Goodbye!\")"
   ]
  },
  {
   "cell_type": "code",
   "execution_count": null,
   "metadata": {},
   "outputs": [],
   "source": []
  },
  {
   "cell_type": "code",
   "execution_count": null,
   "metadata": {},
   "outputs": [],
   "source": []
  },
  {
   "cell_type": "code",
   "execution_count": null,
   "metadata": {},
   "outputs": [],
   "source": []
  }
 ],
 "metadata": {
  "kernelspec": {
   "display_name": "Python 3",
   "language": "python",
   "name": "python3"
  },
  "language_info": {
   "codemirror_mode": {
    "name": "ipython",
    "version": 3
   },
   "file_extension": ".py",
   "mimetype": "text/x-python",
   "name": "python",
   "nbconvert_exporter": "python",
   "pygments_lexer": "ipython3",
   "version": "3.7.3"
  }
 },
 "nbformat": 4,
 "nbformat_minor": 2
}
