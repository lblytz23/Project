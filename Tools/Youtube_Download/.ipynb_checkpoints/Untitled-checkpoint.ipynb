{
 "cells": [
  {
   "cell_type": "markdown",
   "metadata": {},
   "source": [
    "!pip install youtube-dl"
   ]
  },
  {
   "cell_type": "markdown",
   "metadata": {},
   "source": [
    "!pip install --upgrade youtube-dl"
   ]
  },
  {
   "cell_type": "code",
   "execution_count": 3,
   "metadata": {},
   "outputs": [],
   "source": [
    "import youtube_dl\n",
    "import os\n",
    "import re\n",
    "\n",
    "\n",
    "def video_download(link):\n",
    "    youtube_dl_options = {\"writesubtitles\":True}\n",
    "\n",
    "    with youtube_dl.YoutubeDL(youtube_dl_options) as youtube_dl_client:\n",
    "        youtube_dl_client.download([link])\n",
    "\n",
    "\n",
    "def txt_download(link):\n",
    "    def post_precessing(filename):\n",
    "        flg = False\n",
    "        flg2 = False\n",
    "        with open(filename, 'r', encoding='utf8') as f:\n",
    "            source = f.readlines()\n",
    "        output = filename\n",
    "        with open(output.replace('vtt','txt'), 'w+', encoding='utf8') as fo:\n",
    "            for i in range(len(source)):\n",
    "                if len(source[i]) <= 1:\n",
    "                    flg2 = True\n",
    "                if source[i][-4:] == ':0%\\n' and flg == False:\n",
    "                    flg = True\n",
    "                    continue\n",
    "                if flg == True and flg2 == True:\n",
    "                    if (i + 1)%2 == 0:\n",
    "                        fo.write(source[i])\n",
    "                        flg = False\n",
    "                        flg2 = False\n",
    "                        \n",
    "    def post_precessing2(filename):\n",
    "        buff = ''\n",
    "        with open(filename, 'r', encoding='utf8') as f:\n",
    "            source = f.readlines()\n",
    "        output = filename\n",
    "        with open(output.replace('vtt','txt'), 'w+', encoding='utf8') as fo:\n",
    "            for line in source:\n",
    "                if '</c>' not in line and 'position:0%' not in line:\n",
    "                    new = line.replace(' \\n','')\n",
    "                    if len(new) >=2 and new != buff:\n",
    "                        fo.write(new)\n",
    "                        buff = new\n",
    "    \n",
    "    cmd = ''.join(['youtube-dl --write-auto-sub --skip-download ','\"',link, '\"'])\n",
    "    d = os.system(cmd)\n",
    "    filename = ''\n",
    "    if post_p:\n",
    "        # print(os.getcwd())\n",
    "        filelst = os.listdir('./')\n",
    "        # print(filelst)\n",
    "        for file in filelst:\n",
    "            if file[-3:] == 'vtt':\n",
    "                filename = file\n",
    "        post_precessing2(filename)\n",
    "        os.rename(filename, filename + '.bk')"
   ]
  },
  {
   "cell_type": "code",
   "execution_count": 4,
   "metadata": {},
   "outputs": [],
   "source": [
    "# link = input('Please enter a url link:\\n')\n",
    "link = 'https://www.youtube.com/watch?v=eNt-IvCi7a0'\n",
    "mode = 'Txt_Only' # Txt_Only, Video_Txt\n",
    "post_p = True\n",
    "\n",
    "if mode == 'Txt_Only':\n",
    "    txt_download(link)\n",
    "elif mode == 'Video_Txt':\n",
    "    video_download(link)\n",
    "else:\n",
    "    pass\n"
   ]
  },
  {
   "cell_type": "code",
   "execution_count": null,
   "metadata": {},
   "outputs": [],
   "source": []
  }
 ],
 "metadata": {
  "kernelspec": {
   "display_name": "Python 3",
   "language": "python",
   "name": "python3"
  },
  "language_info": {
   "codemirror_mode": {
    "name": "ipython",
    "version": 3
   },
   "file_extension": ".py",
   "mimetype": "text/x-python",
   "name": "python",
   "nbconvert_exporter": "python",
   "pygments_lexer": "ipython3",
   "version": "3.8.5"
  }
 },
 "nbformat": 4,
 "nbformat_minor": 4
}
